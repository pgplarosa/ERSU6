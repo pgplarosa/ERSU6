{
 "cells": [
  {
   "cell_type": "code",
   "execution_count": 56,
   "id": "80299368-7256-40a0-8b10-33129a02b766",
   "metadata": {
    "ExecuteTime": {
     "end_time": "2022-04-29T14:28:06.171973Z",
     "start_time": "2022-04-29T14:27:56.133630Z"
    },
    "execution": {
     "iopub.execute_input": "2022-04-28T02:04:08.475731Z",
     "iopub.status.busy": "2022-04-28T02:04:08.475159Z",
     "iopub.status.idle": "2022-04-28T02:04:09.531140Z",
     "shell.execute_reply": "2022-04-28T02:04:09.529658Z",
     "shell.execute_reply.started": "2022-04-28T02:04:08.475667Z"
    },
    "tags": []
   },
   "outputs": [
    {
     "name": "stderr",
     "output_type": "stream",
     "text": [
      "/home/msds2022/plarosa/.local/lib/python3.9/site-packages/pkg_resources/__init__.py:122: PkgResourcesDeprecationWarning: 6.28.-2017.03.24- is an invalid version and will not be supported in a future release\n",
      "  warnings.warn(\n"
     ]
    }
   ],
   "source": [
    "import os\n",
    "import time\n",
    "import re\n",
    "import string\n",
    "import pickle\n",
    "import pandas as pd\n",
    "import numpy as np\n",
    "import matplotlib.pyplot as plt\n",
    "from sqlalchemy import create_engine\n",
    "from sklearn.preprocessing import LabelEncoder\n",
    "\n",
    "import torch\n",
    "from sentence_transformers import SentenceTransformer, util\n",
    "import umap.umap_ as umap\n",
    "\n",
    "from automl import AutoML\n",
    "\n",
    "# define cache for sentencebert\n",
    "os.environ['XDG_CACHE_HOME'] = 'home/msds2022/plarosa/ .cache'"
   ]
  },
  {
   "cell_type": "markdown",
   "id": "67b9e8b9",
   "metadata": {},
   "source": [
    "### Extract Data"
   ]
  },
  {
   "cell_type": "code",
   "execution_count": 2,
   "id": "144d30f5",
   "metadata": {
    "ExecuteTime": {
     "end_time": "2022-04-29T09:59:01.190012Z",
     "start_time": "2022-04-29T09:59:00.993615Z"
    }
   },
   "outputs": [],
   "source": [
    "def get_abstract_data(db_path='../data/db.sqlite3'):\n",
    "    \"\"\" outputs a dataframe with abstract and school_id\n",
    "    \n",
    "    Parameters\n",
    "    ===========\n",
    "    db_path      :      str\n",
    "                        path of sqlite database\n",
    "                        \n",
    "    Returns\n",
    "    ===========\n",
    "    get_abstract_data    :   pandas.DataFrame\n",
    "                             unique abstract and school_id\n",
    "    \"\"\"\n",
    "    engine = create_engine('sqlite:///' + db_path)\n",
    "    query = \"\"\"\n",
    "    SELECT rp.abstract,\n",
    "           rp.school_id\n",
    "    FROM research_profile rp\n",
    "    WHERE rp.abstract IS NOT NULL\n",
    "    AND rp.school_id IS NOT NULL\n",
    "    GROUP BY rp.abstract, rp.school_id\n",
    "    \"\"\"\n",
    "    with engine.connect() as conn:\n",
    "        df = pd.read_sql(query, conn)\n",
    "\n",
    "    return df\n",
    "\n",
    "df = get_abstract_data()"
   ]
  },
  {
   "cell_type": "markdown",
   "id": "287a6df8",
   "metadata": {},
   "source": [
    "### EDA"
   ]
  },
  {
   "cell_type": "code",
   "execution_count": 3,
   "id": "9df3d82e",
   "metadata": {
    "ExecuteTime": {
     "end_time": "2022-04-29T09:59:02.822369Z",
     "start_time": "2022-04-29T09:59:02.021010Z"
    }
   },
   "outputs": [
    {
     "data": {
      "image/png": "[encoded data removed]",
      "text/plain": [
       "<Figure size 1440x720 with 1 Axes>"
      ]
     },
     "metadata": {
      "needs_background": "light"
     },
     "output_type": "display_data"
    }
   ],
   "source": [
    "df.school_id.value_counts().plot.bar(figsize=(20,10));"
   ]
  },
  {
   "cell_type": "markdown",
   "id": "80e05bec",
   "metadata": {},
   "source": [
    "Note:\n",
    "- Highly imbalanced dataset\n",
    "- Choose only schools with at least 20 research papers produced"
   ]
  },
  {
   "cell_type": "code",
   "execution_count": 4,
   "id": "78e4b952",
   "metadata": {
    "ExecuteTime": {
     "end_time": "2022-04-29T09:59:04.664395Z",
     "start_time": "2022-04-29T09:59:04.652465Z"
    }
   },
   "outputs": [],
   "source": [
    "school_count = df.school_id.value_counts()\n",
    "top_schools = school_count[school_count > 20].index.tolist()\n",
    "\n",
    "data = df[df.school_id.isin(top_schools)]"
   ]
  },
  {
   "cell_type": "markdown",
   "id": "243a7f03",
   "metadata": {},
   "source": [
    "### Preprocess"
   ]
  },
  {
   "cell_type": "code",
   "execution_count": 5,
   "id": "5096ef74",
   "metadata": {
    "ExecuteTime": {
     "end_time": "2022-04-29T09:59:05.665310Z",
     "start_time": "2022-04-29T09:59:05.656610Z"
    }
   },
   "outputs": [],
   "source": [
    "# remove tagalog abstract - out of scope\n",
    "data = data.drop([112, 167, 638, 648, 663])"
   ]
  },
  {
   "cell_type": "code",
   "execution_count": 6,
   "id": "f9394265",
   "metadata": {
    "ExecuteTime": {
     "end_time": "2022-04-29T09:59:06.171104Z",
     "start_time": "2022-04-29T09:59:06.141763Z"
    }
   },
   "outputs": [],
   "source": [
    "# casefold abstract - because pretrained is uncased\n",
    "# remove punctuations - does not add any meaning\n",
    "data['abstract'] = (data.abstract.str.lower()\n",
    "                        .str.replace('“', '', regex=False)\n",
    "                        .str.replace(':', '', regex=False)\n",
    "                        .str.replace('(', '', regex=False)\n",
    "                        .str.replace(')', '', regex=False))"
   ]
  },
  {
   "cell_type": "code",
   "execution_count": 7,
   "id": "8ccc8408-707b-45e1-832b-460e58266903",
   "metadata": {
    "ExecuteTime": {
     "end_time": "2022-04-29T09:59:07.270124Z",
     "start_time": "2022-04-29T09:59:07.218633Z"
    },
    "execution": {
     "iopub.execute_input": "2022-04-28T02:19:45.719914Z",
     "iopub.status.busy": "2022-04-28T02:19:45.719365Z",
     "iopub.status.idle": "2022-04-28T02:19:46.253561Z",
     "shell.execute_reply": "2022-04-28T02:19:46.252197Z",
     "shell.execute_reply.started": "2022-04-28T02:19:45.719851Z"
    },
    "tags": []
   },
   "outputs": [
    {
     "data": {
      "text/html": [
       "<div>\n",
       "<style scoped>\n",
       "    .dataframe tbody tr th:only-of-type {\n",
       "        vertical-align: middle;\n",
       "    }\n",
       "\n",
       "    .dataframe tbody tr th {\n",
       "        vertical-align: top;\n",
       "    }\n",
       "\n",
       "    .dataframe thead th {\n",
       "        text-align: right;\n",
       "    }\n",
       "</style>\n",
       "<table border=\"1\" class=\"dataframe\">\n",
       "  <thead>\n",
       "    <tr style=\"text-align: right;\">\n",
       "      <th></th>\n",
       "      <th>abstract</th>\n",
       "      <th>school_id</th>\n",
       "    </tr>\n",
       "  </thead>\n",
       "  <tbody>\n",
       "    <tr>\n",
       "      <th>1</th>\n",
       "      <td>a common goal for science educators is to enga...</td>\n",
       "      <td>10</td>\n",
       "    </tr>\n",
       "    <tr>\n",
       "      <th>3</th>\n",
       "      <td>a coupled parabolic-hyperbolic system of parti...</td>\n",
       "      <td>91</td>\n",
       "    </tr>\n",
       "    <tr>\n",
       "      <th>4</th>\n",
       "      <td>a food-based approach can be a more sustainabl...</td>\n",
       "      <td>10</td>\n",
       "    </tr>\n",
       "    <tr>\n",
       "      <th>5</th>\n",
       "      <td>a healthy alternative way of reducing the oil ...</td>\n",
       "      <td>48</td>\n",
       "    </tr>\n",
       "    <tr>\n",
       "      <th>6</th>\n",
       "      <td>a market survey on the production of ornamenta...</td>\n",
       "      <td>32</td>\n",
       "    </tr>\n",
       "    <tr>\n",
       "      <th>...</th>\n",
       "      <td>...</td>\n",
       "      <td>...</td>\n",
       "    </tr>\n",
       "    <tr>\n",
       "      <th>723</th>\n",
       "      <td>women play important roles in agricultural pro...</td>\n",
       "      <td>50</td>\n",
       "    </tr>\n",
       "    <tr>\n",
       "      <th>725</th>\n",
       "      <td>working with indigenous and local knowledge il...</td>\n",
       "      <td>91</td>\n",
       "    </tr>\n",
       "    <tr>\n",
       "      <th>726</th>\n",
       "      <td>wrasse labridae are one of the largest reef fi...</td>\n",
       "      <td>32</td>\n",
       "    </tr>\n",
       "    <tr>\n",
       "      <th>727</th>\n",
       "      <td>he chapter reviews and examines water-related ...</td>\n",
       "      <td>91</td>\n",
       "    </tr>\n",
       "    <tr>\n",
       "      <th>728</th>\n",
       "      <td>auto gms an automated greenhouse monitoring sy...</td>\n",
       "      <td>50</td>\n",
       "    </tr>\n",
       "  </tbody>\n",
       "</table>\n",
       "<p>539 rows × 2 columns</p>\n",
       "</div>"
      ],
      "text/plain": [
       "                                              abstract  school_id\n",
       "1    a common goal for science educators is to enga...         10\n",
       "3    a coupled parabolic-hyperbolic system of parti...         91\n",
       "4    a food-based approach can be a more sustainabl...         10\n",
       "5    a healthy alternative way of reducing the oil ...         48\n",
       "6    a market survey on the production of ornamenta...         32\n",
       "..                                                 ...        ...\n",
       "723  women play important roles in agricultural pro...         50\n",
       "725  working with indigenous and local knowledge il...         91\n",
       "726  wrasse labridae are one of the largest reef fi...         32\n",
       "727  he chapter reviews and examines water-related ...         91\n",
       "728  auto gms an automated greenhouse monitoring sy...         50\n",
       "\n",
       "[539 rows x 2 columns]"
      ]
     },
     "metadata": {},
     "output_type": "display_data"
    }
   ],
   "source": [
    "# remove outlier length\n",
    "length = data.abstract.str.split(' ').apply(lambda x: np.log(len(x)))\n",
    "data = data[abs((length - length.mean())/length.std()) < 3]"
   ]
  },
  {
   "cell_type": "code",
   "execution_count": 8,
   "id": "5b88c2cd-1d30-4f25-a559-0901b7d7bae4",
   "metadata": {
    "ExecuteTime": {
     "end_time": "2022-04-29T09:59:12.255526Z",
     "start_time": "2022-04-29T09:59:12.113453Z"
    },
    "execution": {
     "iopub.execute_input": "2022-04-28T02:06:18.038865Z",
     "iopub.status.busy": "2022-04-28T02:06:18.038096Z",
     "iopub.status.idle": "2022-04-28T02:06:18.245614Z",
     "shell.execute_reply": "2022-04-28T02:06:18.244167Z",
     "shell.execute_reply.started": "2022-04-28T02:06:18.038799Z"
    },
    "tags": []
   },
   "outputs": [
    {
     "data": {
      "image/png": "[encoded data removed]",
      "text/plain": [
       "<Figure size 432x288 with 1 Axes>"
      ]
     },
     "metadata": {
      "needs_background": "light"
     },
     "output_type": "display_data"
    }
   ],
   "source": [
    "# check histogram after preprocessing\n",
    "data.abstract.str.split(' ').apply(lambda x: len(x)).hist();"
   ]
  },
  {
   "cell_type": "code",
   "execution_count": 9,
   "id": "962398cf-bfdc-48e4-997b-f3af9851639c",
   "metadata": {
    "ExecuteTime": {
     "end_time": "2022-04-29T09:59:26.977835Z",
     "start_time": "2022-04-29T09:59:12.961747Z"
    },
    "execution": {
     "iopub.execute_input": "2022-04-28T02:06:21.188534Z",
     "iopub.status.busy": "2022-04-28T02:06:21.187968Z",
     "iopub.status.idle": "2022-04-28T02:06:34.924721Z",
     "shell.execute_reply": "2022-04-28T02:06:34.923170Z",
     "shell.execute_reply.started": "2022-04-28T02:06:21.188470Z"
    },
    "tags": []
   },
   "outputs": [
    {
     "name": "stderr",
     "output_type": "stream",
     "text": [
      "WARNING:root:No sentence-transformers model found with name home/msds2022/plarosa/ .cache/torch/sentence_transformers/allenai_scibert_scivocab_uncased. Creating a new one with MEAN pooling.\n",
      "Some weights of the model checkpoint at home/msds2022/plarosa/ .cache/torch/sentence_transformers/allenai_scibert_scivocab_uncased were not used when initializing BertModel: ['cls.predictions.transform.dense.bias', 'cls.predictions.transform.dense.weight', 'cls.predictions.decoder.weight', 'cls.predictions.bias', 'cls.seq_relationship.weight', 'cls.seq_relationship.bias', 'cls.predictions.decoder.bias', 'cls.predictions.transform.LayerNorm.weight', 'cls.predictions.transform.LayerNorm.bias']\n",
      "- This IS expected if you are initializing BertModel from the checkpoint of a model trained on another task or with another architecture (e.g. initializing a BertForSequenceClassification model from a BertForPreTraining model).\n",
      "- This IS NOT expected if you are initializing BertModel from the checkpoint of a model that you expect to be exactly identical (initializing a BertForSequenceClassification model from a BertForSequenceClassification model).\n"
     ]
    }
   ],
   "source": [
    "# load sentence transformer model\n",
    "model = SentenceTransformer('allenai/scibert_scivocab_uncased')\n",
    "model.max_seq_length = 512"
   ]
  },
  {
   "cell_type": "code",
   "execution_count": 10,
   "id": "a613a9c2-9e8e-4e20-9023-b739bf4eebea",
   "metadata": {
    "ExecuteTime": {
     "end_time": "2022-04-29T10:13:48.859926Z",
     "start_time": "2022-04-29T09:59:34.498249Z"
    },
    "execution": {
     "iopub.execute_input": "2022-04-28T02:09:52.424822Z",
     "iopub.status.busy": "2022-04-28T02:09:52.424465Z",
     "iopub.status.idle": "2022-04-28T02:09:57.931685Z",
     "shell.execute_reply": "2022-04-28T02:09:57.930590Z",
     "shell.execute_reply.started": "2022-04-28T02:09:52.424783Z"
    },
    "tags": []
   },
   "outputs": [
    {
     "name": "stdout",
     "output_type": "stream",
     "text": [
      "Time for computing embeddings: 854.2845995426178\n"
     ]
    }
   ],
   "source": [
    "# encode abstract using pretrained model\n",
    "start_time = time.time()\n",
    "embeddings = model.encode(data.abstract.tolist(), convert_to_tensor=True)\n",
    "end_time = time.time()\n",
    "print(\"Time for computing embeddings:\", str(end_time - start_time))"
   ]
  },
  {
   "cell_type": "markdown",
   "id": "5aece830",
   "metadata": {},
   "source": [
    "### Model Training "
   ]
  },
  {
   "cell_type": "markdown",
   "id": "64d951e7",
   "metadata": {},
   "source": [
    "#### Baseline Models"
   ]
  },
  {
   "cell_type": "code",
   "execution_count": 65,
   "id": "482b9d2e-d77d-4530-adc2-94be3e50c243",
   "metadata": {
    "ExecuteTime": {
     "end_time": "2022-04-30T07:13:21.041827Z",
     "start_time": "2022-04-30T07:13:21.031045Z"
    },
    "execution": {
     "iopub.execute_input": "2022-04-28T02:09:57.933158Z",
     "iopub.status.busy": "2022-04-28T02:09:57.932852Z",
     "iopub.status.idle": "2022-04-28T02:09:57.976713Z",
     "shell.execute_reply": "2022-04-28T02:09:57.975774Z",
     "shell.execute_reply.started": "2022-04-28T02:09:57.933134Z"
    },
    "tags": []
   },
   "outputs": [],
   "source": [
    "X = pd.DataFrame(embeddings.cpu().numpy())\n",
    "y = data.reset_index(drop=True)['school_id']\n",
    "\n",
    "le = LabelEncoder()\n",
    "y = le.fit_transform(y)\n"
   ]
  },
  {
   "cell_type": "code",
   "execution_count": 66,
   "id": "d61fd731",
   "metadata": {
    "ExecuteTime": {
     "end_time": "2022-04-30T07:13:21.629910Z",
     "start_time": "2022-04-30T07:13:21.617731Z"
    }
   },
   "outputs": [
    {
     "name": "stdout",
     "output_type": "stream",
     "text": [
      "Proportional Chance Criterion (PCC):  0.14014907700303936\n"
     ]
    }
   ],
   "source": [
    "counts = pd.Series(y).value_counts()\n",
    "pcc = (counts / counts.sum()) ** 2\n",
    "pcc = pcc.sum() * 1.25\n",
    "print(\"Proportional Chance Criterion (PCC): \", pcc)"
   ]
  },
  {
   "cell_type": "code",
   "execution_count": 68,
   "id": "6a9d2f9f",
   "metadata": {
    "ExecuteTime": {
     "end_time": "2022-04-30T08:00:59.865837Z",
     "start_time": "2022-04-30T08:00:59.842423Z"
    },
    "scrolled": false
   },
   "outputs": [
    {
     "data": {
      "text/html": [
       "<div>\n",
       "<style scoped>\n",
       "    .dataframe tbody tr th:only-of-type {\n",
       "        vertical-align: middle;\n",
       "    }\n",
       "\n",
       "    .dataframe tbody tr th {\n",
       "        vertical-align: top;\n",
       "    }\n",
       "\n",
       "    .dataframe thead th {\n",
       "        text-align: right;\n",
       "    }\n",
       "</style>\n",
       "<table border=\"1\" class=\"dataframe\">\n",
       "  <thead>\n",
       "    <tr style=\"text-align: right;\">\n",
       "      <th></th>\n",
       "      <th>Machine Learning Method</th>\n",
       "      <th>Test Accuracy</th>\n",
       "      <th>Best Parameter</th>\n",
       "      <th>Top Predictor Variable</th>\n",
       "      <th>Run Time</th>\n",
       "    </tr>\n",
       "  </thead>\n",
       "  <tbody>\n",
       "    <tr>\n",
       "      <th>0</th>\n",
       "      <td>Decision Tree</td>\n",
       "      <td>0.264444</td>\n",
       "      <td>max_depth =  8</td>\n",
       "      <td>720</td>\n",
       "      <td>16.083670</td>\n",
       "    </tr>\n",
       "    <tr>\n",
       "      <th>1</th>\n",
       "      <td>Random Forest</td>\n",
       "      <td>0.386667</td>\n",
       "      <td>max_depth =  10</td>\n",
       "      <td>720</td>\n",
       "      <td>31.768171</td>\n",
       "    </tr>\n",
       "    <tr>\n",
       "      <th>2</th>\n",
       "      <td>Logistic Regression (l1)</td>\n",
       "      <td>0.475556</td>\n",
       "      <td>C =  1000</td>\n",
       "      <td>369</td>\n",
       "      <td>85.246725</td>\n",
       "    </tr>\n",
       "    <tr>\n",
       "      <th>3</th>\n",
       "      <td>Linear SVM (l1)</td>\n",
       "      <td>0.457778</td>\n",
       "      <td>C =  100</td>\n",
       "      <td>373</td>\n",
       "      <td>596.327696</td>\n",
       "    </tr>\n",
       "    <tr>\n",
       "      <th>4</th>\n",
       "      <td>Logistic Regression (l2)</td>\n",
       "      <td>0.473333</td>\n",
       "      <td>C =  10</td>\n",
       "      <td>422</td>\n",
       "      <td>296.802040</td>\n",
       "    </tr>\n",
       "    <tr>\n",
       "      <th>5</th>\n",
       "      <td>Linear SVM (l2)</td>\n",
       "      <td>0.489259</td>\n",
       "      <td>C =  0.1</td>\n",
       "      <td>422</td>\n",
       "      <td>252.586126</td>\n",
       "    </tr>\n",
       "    <tr>\n",
       "      <th>7</th>\n",
       "      <td>knn Classification</td>\n",
       "      <td>0.503704</td>\n",
       "      <td>n_neighbors =  1</td>\n",
       "      <td>NA</td>\n",
       "      <td>7.435286</td>\n",
       "    </tr>\n",
       "  </tbody>\n",
       "</table>\n",
       "</div>"
      ],
      "text/plain": [
       "    Machine Learning Method  Test Accuracy    Best Parameter  \\\n",
       "0             Decision Tree       0.264444    max_depth =  8   \n",
       "1             Random Forest       0.386667   max_depth =  10   \n",
       "2  Logistic Regression (l1)       0.475556         C =  1000   \n",
       "3           Linear SVM (l1)       0.457778          C =  100   \n",
       "4  Logistic Regression (l2)       0.473333           C =  10   \n",
       "5           Linear SVM (l2)       0.489259          C =  0.1   \n",
       "7        knn Classification       0.503704  n_neighbors =  1   \n",
       "\n",
       "  Top Predictor Variable    Run Time  \n",
       "0                    720   16.083670  \n",
       "1                    720   31.768171  \n",
       "2                    369   85.246725  \n",
       "3                    373  596.327696  \n",
       "4                    422  296.802040  \n",
       "5                    422  252.586126  \n",
       "7                     NA    7.435286  "
      ]
     },
     "metadata": {},
     "output_type": "display_data"
    }
   ],
   "source": [
    "C = [1e-5, 1e-4, 1e-3, .01, 0.1, 10, 100, 1000, 10000]\n",
    "n_neighbors = list(range(1, 51))\n",
    "max_depth = list(range(1, 11))\n",
    "\n",
    "automl_tree = AutoML(['dtc', 'rfc'])\n",
    "splits = automl_tree.split_data(X, y, shuffle=True, \n",
    "                                num_trials=10, stratify=True, \n",
    "                                test_size=0.25)\n",
    "automl_tree.train_model(X, y, \n",
    "                        param_grid={'max_depth':max_depth})\n",
    "tree_summary = automl_tree.generate_summary()\n",
    "\n",
    "automl_linear_l1 = AutoML(['log', 'svl'])\n",
    "splits = automl_linear_l1.split_data(X, y, shuffle=True, \n",
    "                                     num_trials=20, stratify=True,\n",
    "                                     test_size=0.25)\n",
    "automl_linear_l1.train_model(X, y, param_grid= {'C' : C}, \n",
    "                        fixed_params={'penalty' : 'l1'})\n",
    "linearl1_summary = automl_linear_l1.generate_summary()\n",
    "\n",
    "automl_linear_l2 = AutoML(['log', 'svl'])\n",
    "splits = automl_linear_l2.split_data(X, y, shuffle=True, \n",
    "                                     num_trials=20, stratify=True, \n",
    "                                     test_size=0.25)\n",
    "automl_linear_l2.train_model(X, y, param_grid= {'C' : C}, \n",
    "                        fixed_params={'penalty' : 'l2'})\n",
    "linearl2_summary = automl_linear_l2.generate_summary()\n",
    "\n",
    "automl_knc = AutoML('knc')\n",
    "splits = automl_knc.split_data(X, y, num_trials=5, stratify=True, \n",
    "                               test_size=0.25, \n",
    "                               shuffle=True)\n",
    "automl_knc.train_model(X, y, param_grid={'n_neighbors' : range(1,5)})\n",
    "knc_summary = automl_knc.generate_summary()\n",
    "\n",
    "\n",
    "df1 = pd.concat([tree_summary, \n",
    "                linearl1_summary, \n",
    "                linearl2_summary]).reset_index(drop=True)\n",
    "knc_summary = pd.Series(knc_summary, index=df.columns)\n",
    "df1.loc[len(df)] = knc_summary\n",
    "display(df1)"
   ]
  },
  {
   "cell_type": "markdown",
   "id": "92378607",
   "metadata": {},
   "source": [
    "Notes:\n",
    "- Models took time to train\n",
    "- Mostly overfitting"
   ]
  },
  {
   "cell_type": "markdown",
   "id": "be7801a6-e94b-4d6d-b2fd-4a29da3e9fcc",
   "metadata": {},
   "source": [
    "#### With Dimensionality Reduction"
   ]
  },
  {
   "cell_type": "code",
   "execution_count": 57,
   "id": "caf6cf64-ed2a-4dfe-8b0e-7b3b24824ecb",
   "metadata": {
    "ExecuteTime": {
     "end_time": "2022-04-29T14:29:46.974252Z",
     "start_time": "2022-04-29T14:29:30.838420Z"
    },
    "execution": {
     "iopub.execute_input": "2022-04-28T02:10:06.820829Z",
     "iopub.status.busy": "2022-04-28T02:10:06.820117Z",
     "iopub.status.idle": "2022-04-28T02:10:31.882818Z",
     "shell.execute_reply": "2022-04-28T02:10:31.881312Z",
     "shell.execute_reply.started": "2022-04-28T02:10:06.820764Z"
    },
    "tags": []
   },
   "outputs": [],
   "source": [
    "umap_embeddings = umap.UMAP(n_neighbors=20, \n",
    "                            n_components=5, \n",
    "                            metric='cosine').fit_transform(embeddings.cpu())"
   ]
  },
  {
   "cell_type": "code",
   "execution_count": 60,
   "id": "3e7b8f79-aa58-4738-adbc-8d235c1458d4",
   "metadata": {
    "ExecuteTime": {
     "end_time": "2022-04-29T14:30:28.603798Z",
     "start_time": "2022-04-29T14:30:28.595143Z"
    }
   },
   "outputs": [],
   "source": [
    "X = pd.DataFrame(umap_embeddings)"
   ]
  },
  {
   "cell_type": "code",
   "execution_count": 64,
   "id": "8b5fb919",
   "metadata": {
    "ExecuteTime": {
     "end_time": "2022-04-29T14:33:37.777079Z",
     "start_time": "2022-04-29T14:33:37.752079Z"
    },
    "scrolled": false
   },
   "outputs": [
    {
     "data": {
      "text/html": [
       "<div>\n",
       "<style scoped>\n",
       "    .dataframe tbody tr th:only-of-type {\n",
       "        vertical-align: middle;\n",
       "    }\n",
       "\n",
       "    .dataframe tbody tr th {\n",
       "        vertical-align: top;\n",
       "    }\n",
       "\n",
       "    .dataframe thead th {\n",
       "        text-align: right;\n",
       "    }\n",
       "</style>\n",
       "<table border=\"1\" class=\"dataframe\">\n",
       "  <thead>\n",
       "    <tr style=\"text-align: right;\">\n",
       "      <th></th>\n",
       "      <th>Machine Learning Method</th>\n",
       "      <th>Test Accuracy</th>\n",
       "      <th>Best Parameter</th>\n",
       "      <th>Top Predictor Variable</th>\n",
       "      <th>Run Time</th>\n",
       "    </tr>\n",
       "  </thead>\n",
       "  <tbody>\n",
       "    <tr>\n",
       "      <th>0</th>\n",
       "      <td>Decision Tree</td>\n",
       "      <td>0.350370</td>\n",
       "      <td>max_depth =  10</td>\n",
       "      <td>4</td>\n",
       "      <td>0.519581</td>\n",
       "    </tr>\n",
       "    <tr>\n",
       "      <th>1</th>\n",
       "      <td>Random Forest</td>\n",
       "      <td>0.420741</td>\n",
       "      <td>max_depth =  8</td>\n",
       "      <td>4</td>\n",
       "      <td>32.062812</td>\n",
       "    </tr>\n",
       "    <tr>\n",
       "      <th>2</th>\n",
       "      <td>Logistic Regression (l1)</td>\n",
       "      <td>0.324815</td>\n",
       "      <td>C =  1000</td>\n",
       "      <td>1</td>\n",
       "      <td>27.435448</td>\n",
       "    </tr>\n",
       "    <tr>\n",
       "      <th>3</th>\n",
       "      <td>Linear SVM (l1)</td>\n",
       "      <td>0.284444</td>\n",
       "      <td>C =  1000</td>\n",
       "      <td>2</td>\n",
       "      <td>7.156026</td>\n",
       "    </tr>\n",
       "    <tr>\n",
       "      <th>4</th>\n",
       "      <td>Logistic Regression (l2)</td>\n",
       "      <td>0.303333</td>\n",
       "      <td>C =  1000</td>\n",
       "      <td>4</td>\n",
       "      <td>8.547466</td>\n",
       "    </tr>\n",
       "    <tr>\n",
       "      <th>5</th>\n",
       "      <td>Linear SVM (l2)</td>\n",
       "      <td>0.276667</td>\n",
       "      <td>C =  0.1</td>\n",
       "      <td>2</td>\n",
       "      <td>15.161127</td>\n",
       "    </tr>\n",
       "    <tr>\n",
       "      <th>6</th>\n",
       "      <td>knn Classification</td>\n",
       "      <td>0.440000</td>\n",
       "      <td>n_neighbors =  1</td>\n",
       "      <td>NA</td>\n",
       "      <td>0.340769</td>\n",
       "    </tr>\n",
       "  </tbody>\n",
       "</table>\n",
       "</div>"
      ],
      "text/plain": [
       "    Machine Learning Method  Test Accuracy    Best Parameter  \\\n",
       "0             Decision Tree       0.350370   max_depth =  10   \n",
       "1             Random Forest       0.420741    max_depth =  8   \n",
       "2  Logistic Regression (l1)       0.324815         C =  1000   \n",
       "3           Linear SVM (l1)       0.284444         C =  1000   \n",
       "4  Logistic Regression (l2)       0.303333         C =  1000   \n",
       "5           Linear SVM (l2)       0.276667          C =  0.1   \n",
       "6        knn Classification       0.440000  n_neighbors =  1   \n",
       "\n",
       "  Top Predictor Variable   Run Time  \n",
       "0                      4   0.519581  \n",
       "1                      4  32.062812  \n",
       "2                      1  27.435448  \n",
       "3                      2   7.156026  \n",
       "4                      4   8.547466  \n",
       "5                      2  15.161127  \n",
       "6                     NA   0.340769  "
      ]
     },
     "metadata": {},
     "output_type": "display_data"
    }
   ],
   "source": [
    "C = [1e-5, 1e-4, 1e-3, .01, 0.1, 10, 100, 1000, 10000]\n",
    "n_neighbors = list(range(1, 51))\n",
    "max_depth = list(range(1, 11))\n",
    "\n",
    "automl_tree = AutoML(['dtc', 'rfc'])\n",
    "splits = automl_tree.split_data(X, y, shuffle=True, \n",
    "                                num_trials=10, stratify=True, \n",
    "                                test_size=0.25)\n",
    "automl_tree.train_model(X, y, \n",
    "                        param_grid={'max_depth':max_depth})\n",
    "tree_summary = automl_tree.generate_summary()\n",
    "\n",
    "automl_linear_l1 = AutoML(['log', 'svl'])\n",
    "splits = automl_linear_l1.split_data(X, y, shuffle=True, \n",
    "                                     num_trials=20, stratify=True,\n",
    "                                     test_size=0.25)\n",
    "automl_linear_l1.train_model(X, y, param_grid= {'C' : C}, \n",
    "                        fixed_params={'penalty' : 'l1'})\n",
    "linearl1_summary = automl_linear_l1.generate_summary()\n",
    "\n",
    "automl_linear_l2 = AutoML(['log', 'svl'])\n",
    "splits = automl_linear_l2.split_data(X, y, shuffle=True, \n",
    "                                     num_trials=20, stratify=True, \n",
    "                                     test_size=0.25)\n",
    "automl_linear_l2.train_model(X, y, param_grid= {'C' : C}, \n",
    "                        fixed_params={'penalty' : 'l2'})\n",
    "linearl2_summary = automl_linear_l2.generate_summary()\n",
    "\n",
    "automl_knc = AutoML('knc')\n",
    "splits = automl_knc.split_data(X, y, num_trials=5, stratify=True, \n",
    "                               test_size=0.25, \n",
    "                               shuffle=True)\n",
    "automl_knc.train_model(X, y, param_grid={'n_neighbors' : range(1,5)})\n",
    "knc_summary = automl_knc.generate_summary()\n",
    "\n",
    "\n",
    "df2 = pd.concat([tree_summary, \n",
    "                linearl1_summary, \n",
    "                linearl2_summary]).reset_index(drop=True)\n",
    "knc_summary = pd.Series(knc_summary, index=df.columns)\n",
    "df.loc[len(df2)] = knc_summary\n",
    "display(df2)"
   ]
  },
  {
   "cell_type": "markdown",
   "id": "04d4f476",
   "metadata": {},
   "source": [
    "Notes:\n",
    "- Speed improve\n",
    "- Accuracy decrease"
   ]
  },
  {
   "cell_type": "markdown",
   "id": "b0856adf",
   "metadata": {},
   "source": [
    "### Evaluation"
   ]
  },
  {
   "cell_type": "code",
   "execution_count": 95,
   "id": "e5d5be6e",
   "metadata": {
    "ExecuteTime": {
     "end_time": "2022-04-30T14:10:14.294071Z",
     "start_time": "2022-04-30T14:10:13.300662Z"
    }
   },
   "outputs": [],
   "source": [
    "(X_train, X_test, \n",
    " y_train, y_test) = train_test_split(X, y,\n",
    "                                    test_size=0.25,\n",
    "                                    random_state=143, \n",
    "                                    shuffle=True,\n",
    "                                    stratify=y)\n",
    "\n",
    "model = LinearSVC(C=0.1)\n",
    "model.fit(X_train, y_train);"
   ]
  },
  {
   "cell_type": "code",
   "execution_count": 92,
   "id": "c1cac1b4",
   "metadata": {
    "ExecuteTime": {
     "end_time": "2022-04-30T14:09:42.150406Z",
     "start_time": "2022-04-30T14:09:41.578410Z"
    }
   },
   "outputs": [
    {
     "data": {
      "image/png": "[encoded data removed]",
      "text/plain": [
       "<Figure size 720x576 with 2 Axes>"
      ]
     },
     "metadata": {
      "needs_background": "light"
     },
     "output_type": "display_data"
    }
   ],
   "source": [
    "plt.figure(figsize=(10, 8))\n",
    "clf_report = classification_report(model.predict(X_test), \n",
    "                                   y_test,\n",
    "                                   output_dict=True, \n",
    "                                   zero_division=0)\n",
    "sns.heatmap(pd.DataFrame(clf_report).iloc[:-1, :].T, annot=True)\n",
    "plt.title('Classification Report');"
   ]
  },
  {
   "cell_type": "code",
   "execution_count": 93,
   "id": "8060e649",
   "metadata": {
    "ExecuteTime": {
     "end_time": "2022-04-30T14:09:58.505101Z",
     "start_time": "2022-04-30T14:09:57.829180Z"
    }
   },
   "outputs": [
    {
     "data": {
      "image/png": "[encoded data removed]",
      "text/plain": [
       "<Figure size 720x576 with 2 Axes>"
      ]
     },
     "metadata": {
      "needs_background": "light"
     },
     "output_type": "display_data"
    }
   ],
   "source": [
    "plt.figure(figsize=(10, 8))\n",
    "cf_matrix = confusion_matrix(model.predict(X_test), y_test,\n",
    "                            normalize='true')\n",
    "sns.heatmap(cf_matrix, annot=True)\n",
    "plt.title('Confusion Matrix');"
   ]
  },
  {
   "cell_type": "code",
   "execution_count": null,
   "id": "5a6f002e",
   "metadata": {},
   "outputs": [],
   "source": []
  }
 ],
 "metadata": {
  "hide_input": false,
  "kernelspec": {
   "display_name": "Python 3 (ipykernel)",
   "language": "python",
   "name": "python3"
  },
  "language_info": {
   "codemirror_mode": {
    "name": "ipython",
    "version": 3
   },
   "file_extension": ".py",
   "mimetype": "text/x-python",
   "name": "python",
   "nbconvert_exporter": "python",
   "pygments_lexer": "ipython3",
   "version": "3.9.7"
  },
  "varInspector": {
   "cols": {
    "lenName": 16,
    "lenType": 16,
    "lenVar": 40
   },
   "kernels_config": {
    "python": {
     "delete_cmd_postfix": "",
     "delete_cmd_prefix": "del ",
     "library": "var_list.py",
     "varRefreshCmd": "print(var_dic_list())"
    },
    "r": {
     "delete_cmd_postfix": ") ",
     "delete_cmd_prefix": "rm(",
     "library": "var_list.r",
     "varRefreshCmd": "cat(var_dic_list()) "
    }
   },
   "types_to_exclude": [
    "module",
    "function",
    "builtin_function_or_method",
    "instance",
    "_Feature"
   ],
   "window_display": false
  }
 },
 "nbformat": 4,
 "nbformat_minor": 5
}
